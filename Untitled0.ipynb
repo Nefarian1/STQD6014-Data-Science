{
  "nbformat": 4,
  "nbformat_minor": 0,
  "metadata": {
    "colab": {
      "provenance": [],
      "authorship_tag": "ABX9TyPLDgwWioStNeDr1/FT5YsR",
      "include_colab_link": true
    },
    "kernelspec": {
      "name": "python3",
      "display_name": "Python 3"
    },
    "language_info": {
      "name": "python"
    }
  },
  "cells": [
    {
      "cell_type": "markdown",
      "metadata": {
        "id": "view-in-github",
        "colab_type": "text"
      },
      "source": [
        "<a href=\"https://colab.research.google.com/github/Nefarian1/STQD6014-data-science/blob/main/Untitled0.ipynb\" target=\"_parent\"><img src=\"https://colab.research.google.com/assets/colab-badge.svg\" alt=\"Open In Colab\"/></a>"
      ]
    },
    {
      "cell_type": "markdown",
      "source": [
        "#皇家哈吉米哥本哈根最终幻想"
      ],
      "metadata": {
        "id": "EAuNvfJTx6X0"
      }
    },
    {
      "cell_type": "code",
      "source": [
        "import numpy as np\n",
        "import statsmodels.api as sm\n",
        "import scipy.signal as dsp\n",
        "import scipy.stats as sta\n",
        "import matplotlib.pylab as plt\n",
        "\n",
        "file = \"/content/1.txt\"#这里就是sample.dat了\n",
        "exp = np.loadtxt(file, comments='#', delimiter=',')\n",
        "time = exp[:,0]\n",
        "sig = exp[:,1]\n",
        "\n",
        "dt = (time[100] - time[0])/100\n",
        "fs = 1.0/dt\n",
        "nfft = 250\n",
        "fnyq = fs/2\n",
        "df = fs/nfft\n",
        "print(\"Sampling Time [s]: {:.2E} [s]\".format(dt))\n",
        "print(\"Sampling Frequency [kHz]: {:.1f}\".format(fs/1000))\n",
        "print(\"Nyquist Frequency [kHz]: {:.1f}\".format(fnyq/1000))\n",
        "print(\"Frequency Resolution [Hz]: {:.1f}\".format(df))\n",
        "\n",
        "\n",
        "f_1x, psd_1x = dsp.welch(sig, fs=fs, nperseg=nfft*2, return_onesided=True, scaling='density')\n",
        "\n",
        "\n",
        "f_2x, psd_2x = dsp.welch(sig, fs=fs, nperseg=nfft, return_onesided=True, scaling='density')\n",
        "\n",
        "fig = plt.figure()\n",
        "ax = fig.add_subplot(111)\n",
        "ax.plot(f_2x, psd_2x, label='1x Resolution')\n",
        "ax.plot(f_1x, psd_1x, label='2x Resolution')\n",
        "ax.set_xscale('log')\n",
        "ax.set_yscale('log')\n",
        "ax.set_ylabel(\"PSD (V**2/Hz)\")\n",
        "ax.set_xlabel(\"f (Hz)\")\n",
        "ax.legend()\n",
        "\n",
        "plt.show()\n",
        "\n",
        "\n",
        "\n",
        "fig, ax = plt.subplots()\n",
        "image = ax.pcolormesh(t, f / 1000,np.log(Sxx), shading='nearest', cmap='plasma')\n",
        "cb = plt.colorbar(image)\n",
        "ax.set_xscale('log')\n",
        "cb.set_label('Logarithmic Scale')\n",
        "ax.set_xlabel('Time (s)')\n",
        "ax.set_ylabel('Frequency (kHz)')\n",
        "ax.set_title('Spectrogram')\n",
        "plt.show()"
      ],
      "metadata": {
        "id": "GEfnXDLbyCnQ"
      },
      "execution_count": null,
      "outputs": []
    }
  ]
}